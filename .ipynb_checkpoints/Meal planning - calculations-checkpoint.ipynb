{
 "cells": [
  {
   "cell_type": "markdown",
   "id": "be836dae",
   "metadata": {},
   "source": [
    "## Meal planning"
   ]
  },
  {
   "cell_type": "code",
   "execution_count": 12,
   "id": "d3a31fbd",
   "metadata": {},
   "outputs": [],
   "source": [
    "class User:\n",
    "    \n",
    "    def __init__(self, age, gender, weight_kg, height_cm, medical_condition, activity_level, dietary_pref, dislikes):\n",
    "        self.age = age\n",
    "        self.gender = gender\n",
    "        self.weight = weight_kg\n",
    "        self.height = height_cm\n",
    "        self.medical_condition= medical_condition\n",
    "        self.activity_level = activity_level\n",
    "        self.dietary_pref= dietary_pref\n",
    "        self.dislikes = dislikes\n",
    "        \n",
    "    \n",
    "    def bmi_calc(self):\n",
    "        bmi = round(float(self.weight /(self.height*self.height))*10000.00, 1)\n",
    "\n",
    "        if bmi <= 18.4:\n",
    "            bmi_interpretation = \"Underweight\"\n",
    "            goal = \"weight_gain\"\n",
    "        elif bmi >= 18.5 and bmi <= 24.9:\n",
    "            bmi_interpretation = \"Normal\"\n",
    "            goal = \"maintain_weight\"\n",
    "        elif bmi >= 25.0 and bmi<= 29.9:\n",
    "            bmi_interpretation = \"Overweight\"\n",
    "            goal = \"weight_loss\"\n",
    "        elif bmi>= 30.0:\n",
    "            bmi_interpretation = \"Obesity\"\n",
    "            goal = \"strict_weight_loss\"\n",
    "        else:\n",
    "            print(\"Error: bmi out of bounds\")\n",
    "\n",
    "        return bmi, bmi_interpretation, goal\n",
    "    \n",
    "    # Harris-Benedict formula for TDEE\n",
    "    def tdee_calc(self):\n",
    "        '''\n",
    "        output - TDEE - Total Daily Energy Expenditure\n",
    "        '''\n",
    "    \n",
    "        if self.gender == 'M':\n",
    "            BMR = 88.362 + (13.397 * self.weight) + (4.799 * self.height)- (5.677 * self.age)\n",
    "        elif self.gender == 'F':\n",
    "            BMR = 447.593 + (9.247 * self.weight) + (3.098 * self.height)- (4.330 * self.age)\n",
    "\n",
    "        if self.activity_level == \"sedentary\":\n",
    "            tdee = round(BMR * 1.2, 0)\n",
    "        elif self.activity_level == \"lightly active\":\n",
    "            tdee = round(BMR * 1.375, 0)\n",
    "        elif self.activity_level == \"moderately active\":\n",
    "            tdee = round(BMR * 1.55, 0)\n",
    "        elif self.activity_level == \"very active\":\n",
    "            tdee = round(BMR * 1.725, 0)\n",
    "        elif self.activity_level == \"extremely active\":\n",
    "            tdee = round(BMR * 1.9, 0)\n",
    "\n",
    "        return tdee\n",
    "    \n",
    "    def calories_to_consume(self):\n",
    "        tdee = self.tdee_calc()\n",
    "        goal = self.bmi_calc()[2]\n",
    "        \n",
    "        if goal == \"weight_gain\":\n",
    "            cals = tdee + 500\n",
    "        elif goal == \"maintain_weight\":\n",
    "            cals = tdee\n",
    "        elif goal == \"weight_loss\":\n",
    "            cals = tdee-500\n",
    "        elif goal == \"strict_weight_loss\":\n",
    "            cals = tdee-1000\n",
    "\n",
    "        # If calories to be burnt is resulting in more less than min calories req per day then replace with floor value\n",
    "        if self.gender == \"F\" and cals < 1200:\n",
    "            cals = 1200\n",
    "        elif self.gender == \"M\" and cals < 1500:\n",
    "            cals = 1500\n",
    "\n",
    "        return cals\n"
   ]
  },
  {
   "cell_type": "code",
   "execution_count": 2,
   "id": "27364765",
   "metadata": {},
   "outputs": [],
   "source": [
    "aish = User(28,\"F\", 85, 161, \"diabetes\", \"sedentary\")"
   ]
  },
  {
   "cell_type": "code",
   "execution_count": 3,
   "id": "21d539e1",
   "metadata": {},
   "outputs": [
    {
     "data": {
      "text/plain": [
       "1200"
      ]
     },
     "execution_count": 3,
     "metadata": {},
     "output_type": "execute_result"
    }
   ],
   "source": [
    "aish.calories_to_consume()"
   ]
  },
  {
   "cell_type": "code",
   "execution_count": 4,
   "id": "aa1b0bce",
   "metadata": {},
   "outputs": [],
   "source": [
    "# activity_level=  [\"sedentary\", \"lightly active\", \"moderately active\", \"very active\", \"extremely active\"]\n",
    "# goal = [\"weight_gain\", \"maintain_weight\", \"weight_loss\", \"strict_weight_loss\"]"
   ]
  },
  {
   "cell_type": "code",
   "execution_count": 7,
   "id": "77417fae",
   "metadata": {},
   "outputs": [],
   "source": [
    "class meal():\n",
    "    \n",
    "    def __init__(self, meal_type):\n",
    "        self.meal_type = meal_type\n",
    "        self.max_calories = 0\n",
    "        \n",
    "    def calc_macros():\n",
    "        if goal == \"weight_gain\":\n",
    "            carb_min = 0.5\n",
    "            carb_max = 0.6\n",
    "            protien_min = 0.1\n",
    "            protien_max = 0.2\n",
    "            fat_min = 0.2\n",
    "            fat_max = 0.3\n",
    "            \n",
    "        elif goal == \"maintain_weight\":\n",
    "            carb_min = 0.4\n",
    "            carb_max = 0.4\n",
    "            protien_min = 0.3\n",
    "            protien_max = 0.3\n",
    "            fat_min = 0.3\n",
    "            fat_max = 0.3\n",
    "            \n",
    "        elif goal == \"weight_loss\" or \"strict_weight_loss\":\n",
    "            carb_min = 0.4\n",
    "            carb_max = 0.4\n",
    "            protien_min = 0.3\n",
    "            protien_max = 0.4\n",
    "            fat_min = 0.2\n",
    "            fat_max = 0.3\n",
    "            \n",
    "        macros = [carb_min, carb_max, protien_min, protien_max, fat_min, fat_max]\n",
    "        return macros\n"
   ]
  },
  {
   "cell_type": "code",
   "execution_count": 9,
   "id": "6ad5b29d",
   "metadata": {},
   "outputs": [],
   "source": [
    "bf = meal(\"breakfast\")"
   ]
  },
  {
   "cell_type": "code",
   "execution_count": 11,
   "id": "5a3c6463",
   "metadata": {},
   "outputs": [
    {
     "data": {
      "text/plain": [
       "'breakfast'"
      ]
     },
     "execution_count": 11,
     "metadata": {},
     "output_type": "execute_result"
    }
   ],
   "source": [
    "bf.meal_type"
   ]
  },
  {
   "cell_type": "code",
   "execution_count": null,
   "id": "a7949fa1",
   "metadata": {},
   "outputs": [],
   "source": [
    "self.carbs = 0\n",
    "self.protiens = 0\n",
    "self.fats = 0 \n",
    "self.fibre = False\n",
    "self.vitamins = False\n",
    "self.minerals = False\n",
    "self.antioxidants = False"
   ]
  },
  {
   "cell_type": "code",
   "execution_count": null,
   "id": "2024e35a",
   "metadata": {},
   "outputs": [],
   "source": [
    "bf = meal(\"breakfast\", 300)"
   ]
  },
  {
   "cell_type": "code",
   "execution_count": null,
   "id": "be8db7b0",
   "metadata": {},
   "outputs": [],
   "source": [
    "bf.meal_type "
   ]
  },
  {
   "cell_type": "code",
   "execution_count": null,
   "id": "7cd65801",
   "metadata": {},
   "outputs": [],
   "source": [
    "bf.calorie_max"
   ]
  },
  {
   "cell_type": "code",
   "execution_count": null,
   "id": "71e075ba",
   "metadata": {},
   "outputs": [],
   "source": [
    "goal =       "
   ]
  },
  {
   "cell_type": "code",
   "execution_count": null,
   "id": "cfcde17b",
   "metadata": {},
   "outputs": [],
   "source": []
  },
  {
   "cell_type": "code",
   "execution_count": null,
   "id": "126f88ea",
   "metadata": {},
   "outputs": [],
   "source": []
  },
  {
   "cell_type": "code",
   "execution_count": null,
   "id": "c8fb5e0a",
   "metadata": {},
   "outputs": [],
   "source": []
  },
  {
   "cell_type": "markdown",
   "id": "e85fcf69",
   "metadata": {},
   "source": [
    "# Functions:"
   ]
  },
  {
   "cell_type": "code",
   "execution_count": null,
   "id": "dfb1a254",
   "metadata": {},
   "outputs": [],
   "source": [
    "def bmi_calc(height,weight, gender):\n",
    "    bmi = round(float(weight /(height*height))*10000.00, 1)\n",
    "    \n",
    "    if bmi <= 18.4:\n",
    "        bmi_interpretation = \"Underweight\"\n",
    "        goal = \"weight_gain\"\n",
    "    elif bmi >= 18.5 and bmi <= 24.9:\n",
    "        bmi_interpretation = \"Normal\"\n",
    "        goal = \"maintain_weight\"\n",
    "    elif bmi >= 25.0 and bmi<= 29.9:\n",
    "        bmi_interpretation = \"Overweight\"\n",
    "        goal = \"weight_loss\"\n",
    "    elif bmi>= 30.0:\n",
    "        bmi_interpretation = \"Obesity\"\n",
    "        goal = \"strict_weight_loss\"\n",
    "    else:\n",
    "        print(\"Error: bmi out of bounds\")\n",
    "        \n",
    "    return bmi, bmi_interpretation, goal\n"
   ]
  },
  {
   "cell_type": "code",
   "execution_count": null,
   "id": "07960aca",
   "metadata": {},
   "outputs": [],
   "source": [
    "def tdee_calc(gender, age, activity_level, weight, height):\n",
    "    \n",
    "    if gender == 'M':\n",
    "        BMR = 88.362 + (13.397 * weight) + (4.799 * height)- (5.677 * age)\n",
    "    elif gender == 'F':\n",
    "        BMR = 447.593 + (9.247 * weight) + (3.098 * height)- (4.330 * age)\n",
    "        \n",
    "    if activity_level == \"sedentary\":\n",
    "        tdee = round(BMR * 1.2, 0)\n",
    "    elif activity_level == \"lightly active\":\n",
    "        tdee = round(BMR * 1.375, 0)\n",
    "    elif activity_level == \"moderately active\":\n",
    "        tdee = round(BMR * 1.55, 0)\n",
    "    elif activity_level == \"very active\":\n",
    "        tdee = round(BMR * 1.725, 0)\n",
    "    elif activity_level == \"extremely active\":\n",
    "        tdee = round(BMR * 1.9, 0)\n",
    "        \n",
    "    return tdee\n",
    "   "
   ]
  },
  {
   "cell_type": "code",
   "execution_count": null,
   "id": "4a2ae192",
   "metadata": {},
   "outputs": [],
   "source": [
    "def calories_to_consume(tdee, goal, gender):\n",
    "    if goal == \"weight_gain\":\n",
    "        cals = tdee + 500\n",
    "    elif goal == \"maintain_weight\":\n",
    "        cals = tdee\n",
    "    elif goal == \"weight_loss\":\n",
    "        cals = tdee-500\n",
    "    elif goal == \"strict_weight_loss\":\n",
    "        cals = tdee-1000\n",
    "    \n",
    "    # If calories to be burnt is resulting in more less than min calories req per day then replace with floor value\n",
    "    if gender == \"F\" and cals < 1200:\n",
    "        cals = 1200\n",
    "    elif gender == \"M\" and cals < 1500:\n",
    "        cals = 1500\n",
    "    \n",
    "    return cals"
   ]
  },
  {
   "cell_type": "code",
   "execution_count": null,
   "id": "b4955292",
   "metadata": {},
   "outputs": [],
   "source": [
    "# Level of Activity\tExample\tActivity Factor\n",
    "# Sedentary\tLittle to no exercise, such as a desk job with no additional physical activity\t1.2\n",
    "# Lightly Active\tLight exercise 1-2 days/week\t1.375\n",
    "# Moderately Active\tModerate exercise 3-5 days/week\t1.55\n",
    "# Very Active\tHard exercise 6-7 days/week\t1.725\n",
    "# Extremely Active\tHard daily exercise and physical job or two times a day training\t1.9"
   ]
  },
  {
   "cell_type": "code",
   "execution_count": null,
   "id": "f6c3db71",
   "metadata": {},
   "outputs": [],
   "source": []
  }
 ],
 "metadata": {
  "kernelspec": {
   "display_name": "Python 3 (ipykernel)",
   "language": "python",
   "name": "python3"
  },
  "language_info": {
   "codemirror_mode": {
    "name": "ipython",
    "version": 3
   },
   "file_extension": ".py",
   "mimetype": "text/x-python",
   "name": "python",
   "nbconvert_exporter": "python",
   "pygments_lexer": "ipython3",
   "version": "3.11.4"
  }
 },
 "nbformat": 4,
 "nbformat_minor": 5
}
